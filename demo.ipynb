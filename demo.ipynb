{
 "cells": [
  {
   "cell_type": "code",
   "execution_count": 1,
   "metadata": {},
   "outputs": [
    {
     "name": "stderr",
     "output_type": "stream",
     "text": [
      "c:\\Users\\aadim\\.conda\\envs\\carla-pgm\\lib\\site-packages\\tqdm\\auto.py:22: TqdmWarning: IProgress not found. Please update jupyter and ipywidgets. See https://ipywidgets.readthedocs.io/en/stable/user_install.html\n",
      "  from .autonotebook import tqdm as notebook_tqdm\n"
     ]
    }
   ],
   "source": [
    "import os\n",
    "import sys\n",
    "import glob\n",
    "\n",
    "try:\n",
    "    sys.path.append(glob.glob('carla/PythonAPI/carla/dist/carla-*%d.%d-%s.egg' % (\n",
    "        sys.version_info.major,\n",
    "        sys.version_info.minor,\n",
    "        'win-amd64' if os.name == 'nt' else 'linux-x86_64'))[0])\n",
    "except IndexError:\n",
    "    pass\n",
    "\n",
    "import carla\n",
    "\n",
    "import math\n",
    "import time\n",
    "import hydra\n",
    "import logging\n",
    "import argparse\n",
    "\n",
    "from numpy import random\n",
    "from omegaconf import DictConfig, OmegaConf\n",
    "\n",
    "from core.pgm import PGM\n",
    "from utils.weather import Weather\n",
    "from core.vehicle_manager import VehicleManager\n",
    "from core.pedestrian_manager import PedestrianManager\n",
    "from utils.common import get_actor_blueprints"
   ]
  },
  {
   "cell_type": "code",
   "execution_count": 2,
   "metadata": {},
   "outputs": [
    {
     "name": "stdout",
     "output_type": "stream",
     "text": [
      "+---------+------+------+------+\n",
      "| G       | G(A) | G(B) | G(C) |\n",
      "+---------+------+------+------+\n",
      "| L(Bad)  | 0.1  | 0.4  | 0.99 |\n",
      "+---------+------+------+------+\n",
      "| L(Good) | 0.9  | 0.6  | 0.01 |\n",
      "+---------+------+------+------+\n"
     ]
    }
   ],
   "source": [
    "with hydra.initialize(version_base=None, config_path=\"conf/pgm\"):\n",
    "    cfg = hydra.compose(config_name=\"config.yaml\")\n",
    "    # print(cfg)\n",
    "    # print(cfg.model)\n",
    "    pgm = PGM(cfg)\n",
    "    pgm.print_cpd('L')"
   ]
  },
  {
   "cell_type": "code",
   "execution_count": 3,
   "metadata": {},
   "outputs": [
    {
     "name": "stderr",
     "output_type": "stream",
     "text": [
      "Finding Elimination Order: : : 0it [00:00, ?it/s]\n",
      "0it [00:00, ?it/s]"
     ]
    },
    {
     "name": "stdout",
     "output_type": "stream",
     "text": [
      "+------+----------+\n",
      "| G    |   phi(G) |\n",
      "+======+==========+\n",
      "| G(A) |   0.9000 |\n",
      "+------+----------+\n",
      "| G(B) |   0.0800 |\n",
      "+------+----------+\n",
      "| G(C) |   0.0200 |\n",
      "+------+----------+\n"
     ]
    },
    {
     "name": "stderr",
     "output_type": "stream",
     "text": [
      "\n"
     ]
    }
   ],
   "source": [
    "res = pgm.predict_dist(['G'], evidence={'D': 'Easy', 'I': 'Intelligent'})\n",
    "print(res)"
   ]
  },
  {
   "cell_type": "code",
   "execution_count": 4,
   "metadata": {},
   "outputs": [
    {
     "name": "stderr",
     "output_type": "stream",
     "text": [
      "Finding Elimination Order: : : 0it [00:00, ?it/s]\n",
      "0it [00:00, ?it/s]\n"
     ]
    },
    {
     "data": {
      "text/plain": [
       "{'G': 'A'}"
      ]
     },
     "execution_count": 4,
     "metadata": {},
     "output_type": "execute_result"
    }
   ],
   "source": [
    "pgm.predict_state(['G'], evidence={'D': 'Easy', 'I': 'Intelligent', 'L': 'Good', 'S': 'Good'})"
   ]
  },
  {
   "cell_type": "code",
   "execution_count": 2,
   "metadata": {},
   "outputs": [],
   "source": [
    "def main(cfg: DictConfig):\n",
    "    logging.basicConfig(format='%(levelname)s: %(message)s', level=logging.INFO)\n",
    "    \n",
    "    client = carla.Client(cfg.host, cfg.port)\n",
    "    client.set_timeout(10.0)\n",
    "\n",
    "    vcfg = hydra.compose(config_name=\"vehicle_manager.yaml\")\n",
    "    print(vcfg)\n",
    "    tm = VehicleManager(client=client, cfg=vcfg)\n",
    "\n",
    "    pcfg = hydra.compose(config_name=\"pedestrian_manager.yaml\")\n",
    "    print(pcfg)\n",
    "    pm = PedestrianManager(client=client, cfg=pcfg)\n",
    "    try:\n",
    "        world = client.get_world()\n",
    "\n",
    "        tm.spawn_vehicles(number_of_vehicles=30)\n",
    "        pm.spawn_walkers(number_of_walkers=pcfg.number_of_walkers)\n",
    "\n",
    "        # Dynamic Weather\n",
    "        speed_factor = 1.0\n",
    "        update_freq = 0.5 / speed_factor\n",
    "\n",
    "        weather = Weather(world.get_weather())\n",
    "\n",
    "        elapsed_time = 0.0\n",
    "\n",
    "        synchronous_master = world.get_settings().synchronous_mode\n",
    "        while True:\n",
    "            if not cfg.asynch and synchronous_master:\n",
    "                world.tick()\n",
    "            else:\n",
    "                timestamp = world.wait_for_tick(seconds=30.0).timestamp\n",
    "                elapsed_time += timestamp.delta_seconds\n",
    "                if elapsed_time > update_freq:\n",
    "                    weather.tick(speed_factor * elapsed_time)\n",
    "\n",
    "                    world.set_weather(weather.weather)\n",
    "                    sys.stdout.write('\\r' + str(weather) + 12 * ' ')\n",
    "                    sys.stdout.flush()\n",
    "                    elapsed_time = 0.0\n",
    "\n",
    "    finally:\n",
    "\n",
    "        tm.destroy()\n",
    "        pm.destroy()\n",
    "        time.sleep(0.5)"
   ]
  },
  {
   "cell_type": "code",
   "execution_count": 3,
   "metadata": {},
   "outputs": [
    {
     "name": "stdout",
     "output_type": "stream",
     "text": [
      "{'host': '127.0.0.1', 'port': 2000, 'asynch': True}\n",
      "{'host': '127.0.0.1', 'port': 2000, 'asynch': True, 'tm_port': 8000, 'safe': True, 'filterv': 'vehicle.*', 'generationv': 'All', 'hybrid': False, 'seed': 13, 'car_lights_on': False, 'hero': False, 'respawn': False, 'no_rendering': False}\n",
      "You are currently in asynchronous mode. If this is a traffic simulation,             you could experience some issues. If it's not working correctly, switch to synchronous             mode by using self.traffic_manager.set_synchronous_mode(True)\n",
      "{'host': '127.0.0.1', 'port': 2000, 'asynch': True, 'number_of_walkers': 10, 'filterw': 'walker.pedestrian.*', 'generationw': '2', 'seedw': 0, 'running_percentage': 0.0, 'crossing_percentage': 0.0}\n",
      "\n",
      "Added 30 vehicles\n",
      "Spawned 10 walkers.\n",
      "Sun(alt: -4.34, azm: 307.05) Storm(clouds=26%, rain=0%, wind=40%)            \n",
      "Destroying 30 vehicles\n",
      "Destroying 10 walkers\n",
      "\n",
      "done.\n"
     ]
    }
   ],
   "source": [
    "try:\n",
    "    with hydra.initialize(version_base=None, config_path=\"conf\"):\n",
    "        cfg = hydra.compose(config_name=\"config.yaml\")\n",
    "        print(cfg)\n",
    "        main(cfg)\n",
    "except KeyboardInterrupt:\n",
    "    pass\n",
    "finally:\n",
    "    print('\\ndone.')"
   ]
  },
  {
   "cell_type": "code",
   "execution_count": null,
   "metadata": {},
   "outputs": [],
   "source": []
  },
  {
   "cell_type": "code",
   "execution_count": null,
   "metadata": {},
   "outputs": [],
   "source": []
  }
 ],
 "metadata": {
  "kernelspec": {
   "display_name": "Python 3.7.13 ('carla-pgm')",
   "language": "python",
   "name": "python3"
  },
  "language_info": {
   "codemirror_mode": {
    "name": "ipython",
    "version": 3
   },
   "file_extension": ".py",
   "mimetype": "text/x-python",
   "name": "python",
   "nbconvert_exporter": "python",
   "pygments_lexer": "ipython3",
   "version": "3.7.13"
  },
  "orig_nbformat": 4,
  "vscode": {
   "interpreter": {
    "hash": "afed6f277d8b8bfb207bbcb736d6c34c9d4cc2bea9c8625845aeb2af30e9d75e"
   }
  }
 },
 "nbformat": 4,
 "nbformat_minor": 2
}
