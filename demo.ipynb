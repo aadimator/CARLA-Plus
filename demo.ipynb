{
 "cells": [
  {
   "cell_type": "code",
   "execution_count": 1,
   "metadata": {},
   "outputs": [],
   "source": [
    "import os\n",
    "import sys\n",
    "import glob\n",
    "\n",
    "try:\n",
    "    sys.path.append(glob.glob('carla/PythonAPI/carla/dist/carla-*%d.%d-%s.egg' % (\n",
    "        sys.version_info.major,\n",
    "        sys.version_info.minor,\n",
    "        'win-amd64' if os.name == 'nt' else 'linux-x86_64'))[0])\n",
    "except IndexError:\n",
    "    pass\n",
    "\n",
    "import carla\n",
    "\n",
    "import math\n",
    "import time\n",
    "import hydra\n",
    "import logging\n",
    "import argparse\n",
    "\n",
    "from numpy import random\n",
    "from omegaconf import DictConfig\n",
    "\n",
    "from utils.weather import Weather\n",
    "from utils.vehicle_manager import VehicleManager\n",
    "from utils.pedestrian_manager import PedestrianManager\n",
    "from utils.common import get_actor_blueprints"
   ]
  },
  {
   "cell_type": "code",
   "execution_count": 2,
   "metadata": {},
   "outputs": [],
   "source": [
    "def main(cfg: DictConfig):\n",
    "    logging.basicConfig(format='%(levelname)s: %(message)s', level=logging.INFO)\n",
    "    \n",
    "    client = carla.Client(cfg.host, cfg.port)\n",
    "    client.set_timeout(10.0)\n",
    "\n",
    "    vcfg = hydra.compose(config_name=\"vehicle_manager.yaml\")\n",
    "    print(vcfg)\n",
    "    tm = VehicleManager(client=client, cfg=vcfg)\n",
    "\n",
    "    pcfg = hydra.compose(config_name=\"pedestrian_manager.yaml\")\n",
    "    print(pcfg)\n",
    "    pm = PedestrianManager(client=client, cfg=pcfg)\n",
    "    try:\n",
    "        world = client.get_world()\n",
    "\n",
    "        tm.spawn_vehicles(number_of_vehicles=30)\n",
    "        pm.spawn_walkers(number_of_walkers=pcfg.number_of_walkers)\n",
    "\n",
    "        # Dynamic Weather\n",
    "        speed_factor = 1.0\n",
    "        update_freq = 0.5 / speed_factor\n",
    "\n",
    "        weather = Weather(world.get_weather())\n",
    "\n",
    "        elapsed_time = 0.0\n",
    "\n",
    "        synchronous_master = world.get_settings().synchronous_mode\n",
    "        while True:\n",
    "            if not cfg.asynch and synchronous_master:\n",
    "                world.tick()\n",
    "            else:\n",
    "                timestamp = world.wait_for_tick(seconds=30.0).timestamp\n",
    "                elapsed_time += timestamp.delta_seconds\n",
    "                if elapsed_time > update_freq:\n",
    "                    weather.tick(speed_factor * elapsed_time)\n",
    "\n",
    "                    world.set_weather(weather.weather)\n",
    "                    sys.stdout.write('\\r' + str(weather) + 12 * ' ')\n",
    "                    sys.stdout.flush()\n",
    "                    elapsed_time = 0.0\n",
    "\n",
    "    finally:\n",
    "\n",
    "        tm.destroy()\n",
    "        pm.destroy()\n",
    "        time.sleep(0.5)"
   ]
  },
  {
   "cell_type": "code",
   "execution_count": 3,
   "metadata": {},
   "outputs": [
    {
     "name": "stdout",
     "output_type": "stream",
     "text": [
      "{'host': '127.0.0.1', 'port': 2000, 'asynch': True}\n",
      "{'host': '127.0.0.1', 'port': 2000, 'asynch': True, 'tm_port': 8000, 'safe': True, 'filterv': 'vehicle.*', 'generationv': 'All', 'hybrid': False, 'seed': 13, 'car_lights_on': False, 'hero': False, 'respawn': False, 'no_rendering': False}\n",
      "You are currently in asynchronous mode. If this is a traffic simulation,             you could experience some issues. If it's not working correctly, switch to synchronous             mode by using self.traffic_manager.set_synchronous_mode(True)\n",
      "{'host': '127.0.0.1', 'port': 2000, 'asynch': True, 'number_of_walkers': 10, 'filterw': 'walker.pedestrian.*', 'generationw': '2', 'seedw': 0, 'running_percentage': 0.0, 'crossing_percentage': 0.0}\n",
      "\n",
      "Added 30 vehicles\n",
      "Spawned 10 walkers.\n",
      "Sun(alt: -14.84, azm: 322.45) Storm(clouds=1%, rain=0%, wind=5%)            \n",
      "Destroying 30 vehicles\n",
      "Destroying 10 walkers\n",
      "\n",
      "done.\n"
     ]
    }
   ],
   "source": [
    "try:\n",
    "    with hydra.initialize(version_base=None, config_path=\"conf\"):\n",
    "        cfg = hydra.compose(config_name=\"config.yaml\")\n",
    "        print(cfg)\n",
    "        main(cfg)\n",
    "except KeyboardInterrupt:\n",
    "    pass\n",
    "finally:\n",
    "    print('\\ndone.')"
   ]
  },
  {
   "cell_type": "code",
   "execution_count": null,
   "metadata": {},
   "outputs": [],
   "source": []
  },
  {
   "cell_type": "code",
   "execution_count": null,
   "metadata": {},
   "outputs": [],
   "source": []
  }
 ],
 "metadata": {
  "kernelspec": {
   "display_name": "Python 3.7.13 ('carla-pgm')",
   "language": "python",
   "name": "python3"
  },
  "language_info": {
   "codemirror_mode": {
    "name": "ipython",
    "version": 3
   },
   "file_extension": ".py",
   "mimetype": "text/x-python",
   "name": "python",
   "nbconvert_exporter": "python",
   "pygments_lexer": "ipython3",
   "version": "3.7.13"
  },
  "orig_nbformat": 4,
  "vscode": {
   "interpreter": {
    "hash": "afed6f277d8b8bfb207bbcb736d6c34c9d4cc2bea9c8625845aeb2af30e9d75e"
   }
  }
 },
 "nbformat": 4,
 "nbformat_minor": 2
}
