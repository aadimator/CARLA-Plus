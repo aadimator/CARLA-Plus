{
 "cells": [
  {
   "cell_type": "code",
   "execution_count": 1,
   "metadata": {},
   "outputs": [
    {
     "name": "stderr",
     "output_type": "stream",
     "text": [
      "c:\\Users\\aadim\\workspace\\carla-pgm\\utils\\vehicle_manager.py:25: UserWarning: \n",
      "The version_base parameter is not specified.\n",
      "Please specify a compatability version level, or None.\n",
      "Will assume defaults for version 1.1\n",
      "  @hydra.main(config_path=\"conf\", config_name=\"vehicle_manager\")\n"
     ]
    }
   ],
   "source": [
    "import glob\n",
    "import os\n",
    "import sys\n",
    "\n",
    "try:\n",
    "    sys.path.append(glob.glob('carla/PythonAPI/carla/dist/carla-*%d.%d-%s.egg' % (\n",
    "        sys.version_info.major,\n",
    "        sys.version_info.minor,\n",
    "        'win-amd64' if os.name == 'nt' else 'linux-x86_64'))[0])\n",
    "except IndexError:\n",
    "    pass\n",
    "\n",
    "import carla\n",
    "\n",
    "import argparse\n",
    "import math\n",
    "# import gin\n",
    "# gin.enter_interactive_mode()\n",
    "import hydra\n",
    "from omegaconf import DictConfig\n",
    "\n",
    "import logging\n",
    "from numpy import random\n",
    "import time\n",
    "\n",
    "from utils.weather import Weather\n",
    "from utils.vehicle_manager import VehicleManager\n",
    "from utils.common import get_actor_blueprints"
   ]
  },
  {
   "cell_type": "code",
   "execution_count": 15,
   "metadata": {},
   "outputs": [],
   "source": [
    "\n",
    "\n",
    "# @hydra.main(version_base=None, config_path=\"conf\", config_name=\"config\")\n",
    "# def main(\n",
    "#     host:str, port:int, number_of_walkers: int, \n",
    "#     filterw: str, generationw: str,  \n",
    "#     seedw: int ):\n",
    "def main(cfg: DictConfig):\n",
    "\n",
    "    # @todo cannot import these directly.\n",
    "    SpawnActor = carla.command.SpawnActor\n",
    "    SetAutopilot = carla.command.SetAutopilot\n",
    "    FutureActor = carla.command.FutureActor\n",
    "\n",
    "    logging.basicConfig(format='%(levelname)s: %(message)s', level=logging.INFO)\n",
    "\n",
    "    \n",
    "    walkers_list = []\n",
    "    all_id = []\n",
    "    client = carla.Client(cfg.host, cfg.port)\n",
    "    client.set_timeout(10.0)\n",
    "\n",
    "    # with hydra.initialize(version_base=None, config_path=\"conf\"):\n",
    "    vcfg = hydra.compose(config_name=\"vehicle_manager.yaml\")\n",
    "    print(vcfg)\n",
    "    tm = VehicleManager(client=client, cfg=vcfg)\n",
    "    try:\n",
    "        world = client.get_world()\n",
    "\n",
    "        \n",
    "        tm.spawn_vehicles()\n",
    "        blueprintsWalkers = get_actor_blueprints(world, filterw, generationw)\n",
    "        # -------------\n",
    "        # Spawn Walkers\n",
    "        # -------------\n",
    "        # some settings\n",
    "        percentagePedestriansRunning = 0.0      # how many pedestrians will run\n",
    "        percentagePedestriansCrossing = 0.0     # how many pedestrians will walk through the road\n",
    "        if cfg.seedw:\n",
    "            world.set_pedestrians_seed(cfg.seedw)\n",
    "            random.seed(cfg.seedw)\n",
    "        # 1. take all the random locations to spawn\n",
    "        spawn_points = []\n",
    "        for i in range(cfg.number_of_walkers):\n",
    "            spawn_point = carla.Transform()\n",
    "            loc = world.get_random_location_from_navigation()\n",
    "            if (loc != None):\n",
    "                spawn_point.location = loc\n",
    "                spawn_points.append(spawn_point)\n",
    "        # 2. we spawn the walker object\n",
    "        batch = []\n",
    "        walker_speed = []\n",
    "        for spawn_point in spawn_points:\n",
    "            walker_bp = random.choice(blueprintsWalkers)\n",
    "            # set as not invincible\n",
    "            if walker_bp.has_attribute('is_invincible'):\n",
    "                walker_bp.set_attribute('is_invincible', 'false')\n",
    "            # set the max speed\n",
    "            if walker_bp.has_attribute('speed'):\n",
    "                if (random.random() > percentagePedestriansRunning):\n",
    "                    # walking\n",
    "                    walker_speed.append(walker_bp.get_attribute('speed').recommended_values[1])\n",
    "                else:\n",
    "                    # running\n",
    "                    walker_speed.append(walker_bp.get_attribute('speed').recommended_values[2])\n",
    "            else:\n",
    "                print(\"Walker has no speed\")\n",
    "                walker_speed.append(0.0)\n",
    "            batch.append(SpawnActor(walker_bp, spawn_point))\n",
    "        results = client.apply_batch_sync(batch, True)\n",
    "        walker_speed2 = []\n",
    "        for i in range(len(results)):\n",
    "            if results[i].error:\n",
    "                logging.error(results[i].error)\n",
    "            else:\n",
    "                walkers_list.append({\"id\": results[i].actor_id})\n",
    "                walker_speed2.append(walker_speed[i])\n",
    "        walker_speed = walker_speed2\n",
    "        # 3. we spawn the walker controller\n",
    "        batch = []\n",
    "        walker_controller_bp = world.get_blueprint_library().find('controller.ai.walker')\n",
    "        for i in range(len(walkers_list)):\n",
    "            batch.append(SpawnActor(walker_controller_bp, carla.Transform(), walkers_list[i][\"id\"]))\n",
    "        results = client.apply_batch_sync(batch, True)\n",
    "        for i in range(len(results)):\n",
    "            if results[i].error:\n",
    "                logging.error(results[i].error)\n",
    "            else:\n",
    "                walkers_list[i][\"con\"] = results[i].actor_id\n",
    "        # 4. we put together the walkers and controllers id to get the objects from their id\n",
    "        for i in range(len(walkers_list)):\n",
    "            all_id.append(walkers_list[i][\"con\"])\n",
    "            all_id.append(walkers_list[i][\"id\"])\n",
    "        all_actors = world.get_actors(all_id)\n",
    "\n",
    "        # wait for a tick to ensure client receives the last transform of the walkers we have just created\n",
    "        if cfg.asynch or not cfg.synchronous_master:\n",
    "            world.wait_for_tick()\n",
    "        else:\n",
    "            world.tick()\n",
    "\n",
    "        # 5. initialize each controller and set target to walk to (list is [controler, actor, controller, actor ...])\n",
    "        # set how many pedestrians can cross the road\n",
    "        world.set_pedestrians_cross_factor(percentagePedestriansCrossing)\n",
    "        for i in range(0, len(all_id), 2):\n",
    "            # start walker\n",
    "            all_actors[i].start()\n",
    "            # set walk to random point\n",
    "            all_actors[i].go_to_location(world.get_random_location_from_navigation())\n",
    "            # max speed\n",
    "            all_actors[i].set_max_speed(float(walker_speed[int(i/2)]))\n",
    "\n",
    "        # print('spawned %d vehicles and %d walkers, press Ctrl+C to exit.' % (len(vehicles_list), len(walkers_list)))\n",
    "\n",
    "        # Example of how to use Traffic Manager parameters\n",
    "        # traffic_manager.global_percentage_speed_difference(-30.0)\n",
    "\n",
    "        # Dynamic Weather\n",
    "        speed_factor = 1.0\n",
    "        update_freq = 0.5 / speed_factor\n",
    "\n",
    "\n",
    "        weather = Weather(world.get_weather())\n",
    "\n",
    "        elapsed_time = 0.0\n",
    "\n",
    "        while True:\n",
    "            if not cfg.asynch and cfg.synchronous_master:\n",
    "                world.tick()\n",
    "            else:\n",
    "                # world.wait_for_tick()\n",
    "                timestamp = world.wait_for_tick(seconds=30.0).timestamp\n",
    "                elapsed_time += timestamp.delta_seconds\n",
    "                if elapsed_time > update_freq:\n",
    "                    weather.tick(speed_factor * elapsed_time)\n",
    "\n",
    "                    # traffic_manager.global_percentage_speed_difference(30.0 - (10 * (weather._storm.rain / 100)))\n",
    "                    world.set_weather(weather.weather)\n",
    "                    sys.stdout.write('\\r' + str(weather) + 12 * ' ')\n",
    "                    # sys.stdout.write('\\n' + str((30.0 - (10 * (weather._storm.rain / 100)))) + 12 * ' ')\n",
    "                    # sys.stdout.write('\\n' + str(world.get_snapshot().find(vehicles_list[10]).get_velocity()) + 12 * ' ')\n",
    "                    # sys.stdout.write('\\n' + str(world.get_snapshot().find(vehicles_list[10]).get_acceleration()) + 12 * ' ')\n",
    "                    sys.stdout.flush()\n",
    "                    elapsed_time = 0.0\n",
    "\n",
    "    finally:\n",
    "\n",
    "        tm.destroy()\n",
    "\n",
    "        # stop walker controllers (list is [controller, actor, controller, actor ...])\n",
    "        for i in range(0, len(all_id), 2):\n",
    "            all_actors[i].stop()\n",
    "\n",
    "        print('\\ndestroying %d walkers' % len(walkers_list))\n",
    "        client.apply_batch([carla.command.DestroyActor(x) for x in all_id])\n",
    "\n",
    "        time.sleep(0.5)"
   ]
  },
  {
   "cell_type": "code",
   "execution_count": 16,
   "metadata": {},
   "outputs": [
    {
     "name": "stdout",
     "output_type": "stream",
     "text": [
      "{'host': '127.0.0.1', 'port': 2000, 'number_of_walkers': 10, 'filterw': 'walker.pedestrian.*', 'generationw': '2', 'seedw': 0}\n",
      "{'tm_port': 8000, 'safe': True, 'filterv': 'vehicle.*', 'generationv': 'All', 'asynch': True, 'hybrid': False, 'seed': 13, 'car_lights_on': False, 'hero': False, 'respawn': False, 'no_rendering': False}\n",
      "\n",
      "done.\n"
     ]
    },
    {
     "ename": "TypeError",
     "evalue": "decorated_main() got an unexpected keyword argument 'client'",
     "output_type": "error",
     "traceback": [
      "\u001b[1;31m---------------------------------------------------------------------------\u001b[0m",
      "\u001b[1;31mTypeError\u001b[0m                                 Traceback (most recent call last)",
      "\u001b[1;32m~\\AppData\\Local\\Temp\\ipykernel_4836\\2588702819.py\u001b[0m in \u001b[0;36m<module>\u001b[1;34m\u001b[0m\n\u001b[0;32m      5\u001b[0m         \u001b[0mcfg\u001b[0m \u001b[1;33m=\u001b[0m \u001b[0mhydra\u001b[0m\u001b[1;33m.\u001b[0m\u001b[0mcompose\u001b[0m\u001b[1;33m(\u001b[0m\u001b[0mconfig_name\u001b[0m\u001b[1;33m=\u001b[0m\u001b[1;34m\"config.yaml\"\u001b[0m\u001b[1;33m)\u001b[0m\u001b[1;33m\u001b[0m\u001b[1;33m\u001b[0m\u001b[0m\n\u001b[0;32m      6\u001b[0m         \u001b[0mprint\u001b[0m\u001b[1;33m(\u001b[0m\u001b[0mcfg\u001b[0m\u001b[1;33m)\u001b[0m\u001b[1;33m\u001b[0m\u001b[1;33m\u001b[0m\u001b[0m\n\u001b[1;32m----> 7\u001b[1;33m         \u001b[0mmain\u001b[0m\u001b[1;33m(\u001b[0m\u001b[0mcfg\u001b[0m\u001b[1;33m)\u001b[0m\u001b[1;33m\u001b[0m\u001b[1;33m\u001b[0m\u001b[0m\n\u001b[0m\u001b[0;32m      8\u001b[0m \u001b[1;32mexcept\u001b[0m \u001b[0mKeyboardInterrupt\u001b[0m\u001b[1;33m:\u001b[0m\u001b[1;33m\u001b[0m\u001b[1;33m\u001b[0m\u001b[0m\n\u001b[0;32m      9\u001b[0m     \u001b[1;32mpass\u001b[0m\u001b[1;33m\u001b[0m\u001b[1;33m\u001b[0m\u001b[0m\n",
      "\u001b[1;32m~\\AppData\\Local\\Temp\\ipykernel_4836\\962281923.py\u001b[0m in \u001b[0;36mmain\u001b[1;34m(cfg)\u001b[0m\n\u001b[0;32m     22\u001b[0m     \u001b[0mvcfg\u001b[0m \u001b[1;33m=\u001b[0m \u001b[0mhydra\u001b[0m\u001b[1;33m.\u001b[0m\u001b[0mcompose\u001b[0m\u001b[1;33m(\u001b[0m\u001b[0mconfig_name\u001b[0m\u001b[1;33m=\u001b[0m\u001b[1;34m\"vehicle_manager.yaml\"\u001b[0m\u001b[1;33m)\u001b[0m\u001b[1;33m\u001b[0m\u001b[1;33m\u001b[0m\u001b[0m\n\u001b[0;32m     23\u001b[0m     \u001b[0mprint\u001b[0m\u001b[1;33m(\u001b[0m\u001b[0mvcfg\u001b[0m\u001b[1;33m)\u001b[0m\u001b[1;33m\u001b[0m\u001b[1;33m\u001b[0m\u001b[0m\n\u001b[1;32m---> 24\u001b[1;33m     \u001b[0mtm\u001b[0m \u001b[1;33m=\u001b[0m \u001b[0mVehicleManager\u001b[0m\u001b[1;33m(\u001b[0m\u001b[0mclient\u001b[0m\u001b[1;33m=\u001b[0m\u001b[0mclient\u001b[0m\u001b[1;33m,\u001b[0m \u001b[0mcfg\u001b[0m\u001b[1;33m=\u001b[0m\u001b[0mvcfg\u001b[0m\u001b[1;33m)\u001b[0m\u001b[1;33m\u001b[0m\u001b[1;33m\u001b[0m\u001b[0m\n\u001b[0m\u001b[0;32m     25\u001b[0m     \u001b[1;32mtry\u001b[0m\u001b[1;33m:\u001b[0m\u001b[1;33m\u001b[0m\u001b[1;33m\u001b[0m\u001b[0m\n\u001b[0;32m     26\u001b[0m         \u001b[0mworld\u001b[0m \u001b[1;33m=\u001b[0m \u001b[0mclient\u001b[0m\u001b[1;33m.\u001b[0m\u001b[0mget_world\u001b[0m\u001b[1;33m(\u001b[0m\u001b[1;33m)\u001b[0m\u001b[1;33m\u001b[0m\u001b[1;33m\u001b[0m\u001b[0m\n",
      "\u001b[1;31mTypeError\u001b[0m: decorated_main() got an unexpected keyword argument 'client'"
     ]
    }
   ],
   "source": [
    "# gin.parse_config_file('configs/config.gin')\n",
    "\n",
    "try:\n",
    "    with hydra.initialize(version_base=None, config_path=\"conf\"):\n",
    "        cfg = hydra.compose(config_name=\"config.yaml\")\n",
    "        print(cfg)\n",
    "        main(cfg)\n",
    "except KeyboardInterrupt:\n",
    "    pass\n",
    "finally:\n",
    "    print('\\ndone.')"
   ]
  },
  {
   "cell_type": "code",
   "execution_count": null,
   "metadata": {},
   "outputs": [],
   "source": []
  },
  {
   "cell_type": "code",
   "execution_count": null,
   "metadata": {},
   "outputs": [],
   "source": []
  },
  {
   "cell_type": "code",
   "execution_count": 25,
   "metadata": {},
   "outputs": [
    {
     "name": "stdout",
     "output_type": "stream",
     "text": [
      "Sun(alt: 46.79, azm: 15.15) Storm(clouds=0%, rain=0%, wind=5%)                 "
     ]
    },
    {
     "ename": "KeyboardInterrupt",
     "evalue": "",
     "output_type": "error",
     "traceback": [
      "\u001b[1;31m---------------------------------------------------------------------------\u001b[0m",
      "\u001b[1;31mKeyboardInterrupt\u001b[0m                         Traceback (most recent call last)",
      "\u001b[1;32m~\\AppData\\Local\\Temp\\ipykernel_17376\\1797925383.py\u001b[0m in \u001b[0;36m<module>\u001b[1;34m\u001b[0m\n\u001b[0;32m     11\u001b[0m \u001b[1;33m\u001b[0m\u001b[0m\n\u001b[0;32m     12\u001b[0m \u001b[1;32mwhile\u001b[0m \u001b[1;32mTrue\u001b[0m\u001b[1;33m:\u001b[0m\u001b[1;33m\u001b[0m\u001b[1;33m\u001b[0m\u001b[0m\n\u001b[1;32m---> 13\u001b[1;33m     \u001b[0mtimestamp\u001b[0m \u001b[1;33m=\u001b[0m \u001b[0mworld\u001b[0m\u001b[1;33m.\u001b[0m\u001b[0mwait_for_tick\u001b[0m\u001b[1;33m(\u001b[0m\u001b[0mseconds\u001b[0m\u001b[1;33m=\u001b[0m\u001b[1;36m30.0\u001b[0m\u001b[1;33m)\u001b[0m\u001b[1;33m.\u001b[0m\u001b[0mtimestamp\u001b[0m\u001b[1;33m\u001b[0m\u001b[1;33m\u001b[0m\u001b[0m\n\u001b[0m\u001b[0;32m     14\u001b[0m     \u001b[0melapsed_time\u001b[0m \u001b[1;33m+=\u001b[0m \u001b[0mtimestamp\u001b[0m\u001b[1;33m.\u001b[0m\u001b[0mdelta_seconds\u001b[0m\u001b[1;33m\u001b[0m\u001b[1;33m\u001b[0m\u001b[0m\n\u001b[0;32m     15\u001b[0m     \u001b[1;32mif\u001b[0m \u001b[0melapsed_time\u001b[0m \u001b[1;33m>\u001b[0m \u001b[0mupdate_freq\u001b[0m\u001b[1;33m:\u001b[0m\u001b[1;33m\u001b[0m\u001b[1;33m\u001b[0m\u001b[0m\n",
      "\u001b[1;31mKeyboardInterrupt\u001b[0m: "
     ]
    }
   ],
   "source": [
    "speed_factor = 2.0\n",
    "update_freq = 0.1 / speed_factor\n",
    "\n",
    "client = carla.Client('127.0.0.1', 2000)\n",
    "client.set_timeout(2.0)\n",
    "world = client.get_world()\n",
    "\n",
    "weather = Weather(world.get_weather())\n",
    "\n",
    "elapsed_time = 0.0\n",
    "\n",
    "while True:\n",
    "    timestamp = world.wait_for_tick(seconds=30.0).timestamp\n",
    "    elapsed_time += timestamp.delta_seconds\n",
    "    if elapsed_time > update_freq:\n",
    "        weather.tick(speed_factor * elapsed_time)\n",
    "        world.set_weather(weather.weather)\n",
    "        sys.stdout.write('\\r' + str(weather) + 12 * ' ')\n",
    "        sys.stdout.flush()\n",
    "        elapsed_time = 0.0"
   ]
  },
  {
   "cell_type": "code",
   "execution_count": 4,
   "metadata": {},
   "outputs": [
    {
     "data": {
      "text/plain": [
       "155"
      ]
     },
     "execution_count": 4,
     "metadata": {},
     "output_type": "execute_result"
    }
   ],
   "source": [
    "spawn_points = world.get_map().get_spawn_points()\n",
    "number_of_spawn_points = len(spawn_points)\n",
    "number_of_spawn_points"
   ]
  },
  {
   "cell_type": "code",
   "execution_count": 7,
   "metadata": {},
   "outputs": [],
   "source": [
    "weather = world.get_weather()"
   ]
  },
  {
   "cell_type": "code",
   "execution_count": 21,
   "metadata": {},
   "outputs": [
    {
     "data": {
      "text/plain": [
       "50.0"
      ]
     },
     "execution_count": 21,
     "metadata": {},
     "output_type": "execute_result"
    }
   ],
   "source": [
    "weather.precipitation = 50\n",
    "weather.wetness = 30\n",
    "world.set_weather(weather)\n",
    "world.get_weather().precipitation"
   ]
  },
  {
   "cell_type": "code",
   "execution_count": null,
   "metadata": {},
   "outputs": [],
   "source": []
  }
 ],
 "metadata": {
  "kernelspec": {
   "display_name": "Python 3.7.13 ('carla-pgm')",
   "language": "python",
   "name": "python3"
  },
  "language_info": {
   "codemirror_mode": {
    "name": "ipython",
    "version": 3
   },
   "file_extension": ".py",
   "mimetype": "text/x-python",
   "name": "python",
   "nbconvert_exporter": "python",
   "pygments_lexer": "ipython3",
   "version": "3.7.13"
  },
  "orig_nbformat": 4,
  "vscode": {
   "interpreter": {
    "hash": "afed6f277d8b8bfb207bbcb736d6c34c9d4cc2bea9c8625845aeb2af30e9d75e"
   }
  }
 },
 "nbformat": 4,
 "nbformat_minor": 2
}
