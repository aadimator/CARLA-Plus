{
 "cells": [
  {
   "cell_type": "code",
   "execution_count": 1,
   "metadata": {},
   "outputs": [],
   "source": [
    "import glob\n",
    "import os\n",
    "import sys\n",
    "\n",
    "try:\n",
    "    sys.path.append(glob.glob('carla/PythonAPI/carla/dist/carla-*%d.%d-%s.egg' % (\n",
    "        sys.version_info.major,\n",
    "        sys.version_info.minor,\n",
    "        'win-amd64' if os.name == 'nt' else 'linux-x86_64'))[0])\n",
    "except IndexError:\n",
    "    pass\n",
    "\n",
    "import carla\n",
    "\n",
    "import argparse\n",
    "import math\n",
    "# import gin\n",
    "# gin.enter_interactive_mode()\n",
    "import hydra\n",
    "from omegaconf import DictConfig\n",
    "\n",
    "import logging\n",
    "from numpy import random\n",
    "import time\n",
    "\n",
    "from utils.weather import Weather\n",
    "from utils.vehicle_manager import VehicleManager\n",
    "from utils.pedestrian_manager import PedestrianManager\n",
    "from utils.common import get_actor_blueprints"
   ]
  },
  {
   "cell_type": "code",
   "execution_count": 2,
   "metadata": {},
   "outputs": [],
   "source": [
    "\n",
    "\n",
    "# @hydra.main(version_base=None, config_path=\"conf\", config_name=\"config\")\n",
    "# def main(\n",
    "#     host:str, port:int, number_of_walkers: int, \n",
    "#     filterw: str, generationw: str,  \n",
    "#     seedw: int ):\n",
    "def main(cfg: DictConfig):\n",
    "    logging.basicConfig(format='%(levelname)s: %(message)s', level=logging.INFO)\n",
    "    \n",
    "    client = carla.Client(cfg.host, cfg.port)\n",
    "    client.set_timeout(10.0)\n",
    "\n",
    "    vcfg = hydra.compose(config_name=\"vehicle_manager.yaml\")\n",
    "    print(vcfg)\n",
    "    tm = VehicleManager(client=client, asynch=cfg.asynch, cfg=vcfg)\n",
    "\n",
    "    pcfg = hydra.compose(config_name=\"pedestrian_manager.yaml\")\n",
    "    print(pcfg)\n",
    "    pm = PedestrianManager(client=client, cfg=pcfg)\n",
    "    try:\n",
    "        world = client.get_world()\n",
    "\n",
    "        tm.spawn_vehicles(number_of_vehicles=30)\n",
    "        pm.spawn_walkers(number_of_walkers=pcfg.number_of_walkers)\n",
    "        \n",
    "        # Example of how to use Traffic Manager parameters\n",
    "        # traffic_manager.global_percentage_speed_difference(-30.0)\n",
    "\n",
    "        # Dynamic Weather\n",
    "        speed_factor = 1.0\n",
    "        update_freq = 0.5 / speed_factor\n",
    "\n",
    "\n",
    "        weather = Weather(world.get_weather())\n",
    "\n",
    "        elapsed_time = 0.0\n",
    "\n",
    "        # tm.spawn_vehicles(number_of_vehicles=40)\n",
    "        synchronous_master = world.get_settings().synchronous_mode\n",
    "        while True:\n",
    "            if not cfg.asynch and synchronous_master:\n",
    "                world.tick()\n",
    "            else:\n",
    "                # world.wait_for_tick()\n",
    "                timestamp = world.wait_for_tick(seconds=30.0).timestamp\n",
    "                elapsed_time += timestamp.delta_seconds\n",
    "                if elapsed_time > update_freq:\n",
    "                    weather.tick(speed_factor * elapsed_time)\n",
    "\n",
    "                    # traffic_manager.global_percentage_speed_difference(30.0 - (10 * (weather._storm.rain / 100)))\n",
    "                    world.set_weather(weather.weather)\n",
    "                    sys.stdout.write('\\r' + str(weather) + 12 * ' ')\n",
    "                    # tm.spawn_vehicles(number_of_vehicles=20)\n",
    "                    sys.stdout.flush()\n",
    "                    elapsed_time = 0.0\n",
    "\n",
    "    finally:\n",
    "\n",
    "        tm.destroy()\n",
    "        pm.destroy()\n",
    "        time.sleep(0.5)"
   ]
  },
  {
   "cell_type": "code",
   "execution_count": 3,
   "metadata": {},
   "outputs": [
    {
     "name": "stdout",
     "output_type": "stream",
     "text": [
      "{'host': '127.0.0.1', 'port': 2000, 'asynch': True}\n",
      "{'host': '127.0.0.1', 'port': 2000, 'asynch': True, 'tm_port': 8000, 'safe': True, 'filterv': 'vehicle.*', 'generationv': 'All', 'hybrid': False, 'seed': 13, 'car_lights_on': False, 'hero': False, 'respawn': False, 'no_rendering': False}\n",
      "You are currently in asynchronous mode. If this is a traffic simulation,             you could experience some issues. If it's not working correctly, switch to synchronous             mode by using self.traffic_manager.set_synchronous_mode(True)\n",
      "{'host': '127.0.0.1', 'port': 2000, 'asynch': True, 'number_of_walkers': 10, 'filterw': 'walker.pedestrian.*', 'generationw': '2', 'seedw': 0, 'running_percentage': 0.0, 'crossing_percentage': 0.0}\n",
      "\n",
      "Added 30 vehicles\n",
      "Spawned 10 walkers.\n",
      "Sun(alt: -12.24, azm: 320.15) Storm(clouds=8%, rain=0%, wind=5%)            \n",
      "destroying 30 vehicles\n",
      "\n",
      "Destroying 10 walkers\n",
      "\n",
      "done.\n"
     ]
    }
   ],
   "source": [
    "# gin.parse_config_file('configs/config.gin')\n",
    "\n",
    "try:\n",
    "    with hydra.initialize(version_base=None, config_path=\"conf\"):\n",
    "        cfg = hydra.compose(config_name=\"config.yaml\")\n",
    "        print(cfg)\n",
    "        main(cfg)\n",
    "except KeyboardInterrupt:\n",
    "    pass\n",
    "finally:\n",
    "    print('\\ndone.')"
   ]
  },
  {
   "cell_type": "code",
   "execution_count": null,
   "metadata": {},
   "outputs": [],
   "source": []
  },
  {
   "cell_type": "code",
   "execution_count": null,
   "metadata": {},
   "outputs": [],
   "source": []
  },
  {
   "cell_type": "code",
   "execution_count": 25,
   "metadata": {},
   "outputs": [
    {
     "name": "stdout",
     "output_type": "stream",
     "text": [
      "Sun(alt: 46.79, azm: 15.15) Storm(clouds=0%, rain=0%, wind=5%)                 "
     ]
    },
    {
     "ename": "KeyboardInterrupt",
     "evalue": "",
     "output_type": "error",
     "traceback": [
      "\u001b[1;31m---------------------------------------------------------------------------\u001b[0m",
      "\u001b[1;31mKeyboardInterrupt\u001b[0m                         Traceback (most recent call last)",
      "\u001b[1;32m~\\AppData\\Local\\Temp\\ipykernel_17376\\1797925383.py\u001b[0m in \u001b[0;36m<module>\u001b[1;34m\u001b[0m\n\u001b[0;32m     11\u001b[0m \u001b[1;33m\u001b[0m\u001b[0m\n\u001b[0;32m     12\u001b[0m \u001b[1;32mwhile\u001b[0m \u001b[1;32mTrue\u001b[0m\u001b[1;33m:\u001b[0m\u001b[1;33m\u001b[0m\u001b[1;33m\u001b[0m\u001b[0m\n\u001b[1;32m---> 13\u001b[1;33m     \u001b[0mtimestamp\u001b[0m \u001b[1;33m=\u001b[0m \u001b[0mworld\u001b[0m\u001b[1;33m.\u001b[0m\u001b[0mwait_for_tick\u001b[0m\u001b[1;33m(\u001b[0m\u001b[0mseconds\u001b[0m\u001b[1;33m=\u001b[0m\u001b[1;36m30.0\u001b[0m\u001b[1;33m)\u001b[0m\u001b[1;33m.\u001b[0m\u001b[0mtimestamp\u001b[0m\u001b[1;33m\u001b[0m\u001b[1;33m\u001b[0m\u001b[0m\n\u001b[0m\u001b[0;32m     14\u001b[0m     \u001b[0melapsed_time\u001b[0m \u001b[1;33m+=\u001b[0m \u001b[0mtimestamp\u001b[0m\u001b[1;33m.\u001b[0m\u001b[0mdelta_seconds\u001b[0m\u001b[1;33m\u001b[0m\u001b[1;33m\u001b[0m\u001b[0m\n\u001b[0;32m     15\u001b[0m     \u001b[1;32mif\u001b[0m \u001b[0melapsed_time\u001b[0m \u001b[1;33m>\u001b[0m \u001b[0mupdate_freq\u001b[0m\u001b[1;33m:\u001b[0m\u001b[1;33m\u001b[0m\u001b[1;33m\u001b[0m\u001b[0m\n",
      "\u001b[1;31mKeyboardInterrupt\u001b[0m: "
     ]
    }
   ],
   "source": [
    "speed_factor = 2.0\n",
    "update_freq = 0.1 / speed_factor\n",
    "\n",
    "client = carla.Client('127.0.0.1', 2000)\n",
    "client.set_timeout(2.0)\n",
    "world = client.get_world()\n",
    "\n",
    "weather = Weather(world.get_weather())\n",
    "\n",
    "elapsed_time = 0.0\n",
    "\n",
    "while True:\n",
    "    timestamp = world.wait_for_tick(seconds=30.0).timestamp\n",
    "    elapsed_time += timestamp.delta_seconds\n",
    "    if elapsed_time > update_freq:\n",
    "        weather.tick(speed_factor * elapsed_time)\n",
    "        world.set_weather(weather.weather)\n",
    "        sys.stdout.write('\\r' + str(weather) + 12 * ' ')\n",
    "        sys.stdout.flush()\n",
    "        elapsed_time = 0.0"
   ]
  },
  {
   "cell_type": "code",
   "execution_count": 4,
   "metadata": {},
   "outputs": [
    {
     "data": {
      "text/plain": [
       "155"
      ]
     },
     "execution_count": 4,
     "metadata": {},
     "output_type": "execute_result"
    }
   ],
   "source": [
    "spawn_points = world.get_map().get_spawn_points()\n",
    "number_of_spawn_points = len(spawn_points)\n",
    "number_of_spawn_points"
   ]
  },
  {
   "cell_type": "code",
   "execution_count": 7,
   "metadata": {},
   "outputs": [],
   "source": [
    "weather = world.get_weather()"
   ]
  },
  {
   "cell_type": "code",
   "execution_count": 21,
   "metadata": {},
   "outputs": [
    {
     "data": {
      "text/plain": [
       "50.0"
      ]
     },
     "execution_count": 21,
     "metadata": {},
     "output_type": "execute_result"
    }
   ],
   "source": [
    "weather.precipitation = 50\n",
    "weather.wetness = 30\n",
    "world.set_weather(weather)\n",
    "world.get_weather().precipitation"
   ]
  },
  {
   "cell_type": "code",
   "execution_count": null,
   "metadata": {},
   "outputs": [],
   "source": []
  }
 ],
 "metadata": {
  "kernelspec": {
   "display_name": "Python 3.7.13 ('carla-pgm')",
   "language": "python",
   "name": "python3"
  },
  "language_info": {
   "codemirror_mode": {
    "name": "ipython",
    "version": 3
   },
   "file_extension": ".py",
   "mimetype": "text/x-python",
   "name": "python",
   "nbconvert_exporter": "python",
   "pygments_lexer": "ipython3",
   "version": "3.7.13"
  },
  "orig_nbformat": 4,
  "vscode": {
   "interpreter": {
    "hash": "afed6f277d8b8bfb207bbcb736d6c34c9d4cc2bea9c8625845aeb2af30e9d75e"
   }
  }
 },
 "nbformat": 4,
 "nbformat_minor": 2
}
