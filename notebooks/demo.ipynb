{
 "cells": [
  {
   "cell_type": "code",
   "execution_count": 1,
   "metadata": {},
   "outputs": [
    {
     "name": "stderr",
     "output_type": "stream",
     "text": [
      "c:\\Users\\aadim\\.conda\\envs\\carla-pgm\\lib\\site-packages\\tqdm\\auto.py:22: TqdmWarning: IProgress not found. Please update jupyter and ipywidgets. See https://ipywidgets.readthedocs.io/en/stable/user_install.html\n",
      "  from .autonotebook import tqdm as notebook_tqdm\n"
     ]
    }
   ],
   "source": [
    "import os\n",
    "import sys\n",
    "import glob\n",
    "\n",
    "try:\n",
    "    sys.path.append(glob.glob('../carla/PythonAPI/carla/dist/carla-*%d.%d-%s.egg' % (\n",
    "        sys.version_info.major,\n",
    "        sys.version_info.minor,\n",
    "        'win-amd64' if os.name == 'nt' else 'linux-x86_64'))[0])\n",
    "except IndexError:\n",
    "    pass\n",
    "\n",
    "\n",
    "import carla\n",
    "\n",
    "import math\n",
    "import time\n",
    "import hydra\n",
    "import logging\n",
    "import argparse\n",
    "\n",
    "\n",
    "from numpy import random\n",
    "from omegaconf import DictConfig, OmegaConf, ValidationError\n",
    "\n",
    "module_path = os.path.abspath(os.path.join('..'))\n",
    "if module_path not in sys.path:\n",
    "    sys.path.append(module_path)\n",
    "\n",
    "from core.pgm import PGM\n",
    "from utils.weather import Weather\n",
    "from core.vehicle_manager import VehicleManager\n",
    "from core.pedestrian_manager import PedestrianManager\n",
    "from utils.common import get_actor_blueprints\n",
    "\n",
    "from hydra.core.config_store import ConfigStore\n",
    "from schemas.pgm_schema import PGMModel\n",
    "from schemas.weather_schema import WeatherSchema, SunSchema"
   ]
  },
  {
   "cell_type": "code",
   "execution_count": 12,
   "metadata": {},
   "outputs": [],
   "source": [
    "def main(cfg: DictConfig):\n",
    "    logging.basicConfig(format='%(levelname)s: %(message)s', level=logging.INFO)\n",
    "    \n",
    "    client = carla.Client(cfg.host, cfg.port)\n",
    "    client.set_timeout(10.0)\n",
    "    \n",
    "    pgm = PGM(cfg.model)\n",
    "    pgm_variables = pgm.get_variables()\n",
    "    pgm_states = pgm.get_states()\n",
    "    traffic_state = pgm.predict_state(\n",
    "        [pgm_variables.Traffic, pgm_variables.Speed], \n",
    "        evidence={\n",
    "            pgm_variables.Rain: pgm_states.Rain.NO_RAIN.name\n",
    "        }\n",
    "    )\n",
    "\n",
    "    if traffic_state[pgm_variables.Traffic] == pgm_states.Traffic.LOW.name:\n",
    "        num_of_vehicles = 10\n",
    "    else:\n",
    "        num_of_vehicles = 30\n",
    "\n",
    "    if traffic_state[pgm_variables.Speed] == pgm_states.Speed.LOW.name:\n",
    "        speed = -50\n",
    "    else:\n",
    "        speed = 10\n",
    "\n",
    "    vcfg = hydra.compose(config_name=\"vehicle_manager.yaml\")\n",
    "    # print(vcfg)\n",
    "    tm = VehicleManager(client=client, cfg=vcfg)\n",
    "\n",
    "    pcfg = hydra.compose(config_name=\"pedestrian_manager.yaml\")\n",
    "    # print(pcfg)\n",
    "    pm = PedestrianManager(client=client, cfg=pcfg)\n",
    "    try:\n",
    "        world = client.get_world()\n",
    "\n",
    "        tm.spawn_vehicles(number_of_vehicles=num_of_vehicles)\n",
    "        pm.spawn_walkers(number_of_walkers=pcfg.number_of_walkers)\n",
    "\n",
    "        # Dynamic Weather\n",
    "        speed_factor = 1.0\n",
    "        update_freq = 0.5 / speed_factor\n",
    "\n",
    "        weather = Weather(world.get_weather())\n",
    "        weather.setWeather(cfg.weather)\n",
    "\n",
    "        elapsed_time = 0.0\n",
    "\n",
    "        tm.update_global_speed(speed)\n",
    "\n",
    "        synchronous_master = world.get_settings().synchronous_mode\n",
    "        while True:\n",
    "            if not cfg.asynch and synchronous_master:\n",
    "                world.tick()\n",
    "            else:\n",
    "                timestamp = world.wait_for_tick(seconds=30.0).timestamp\n",
    "                elapsed_time += timestamp.delta_seconds\n",
    "                if elapsed_time > update_freq:\n",
    "                    # weather.tick(speed_factor * elapsed_time)\n",
    "\n",
    "                    # world.set_weather(weather.weather)\n",
    "                    # sys.stdout.write('\\r' + str(weather) + 12 * ' ')\n",
    "                    # sys.stdout.flush()\n",
    "                    elapsed_time = 0.0\n",
    "\n",
    "    finally:\n",
    "\n",
    "        tm.destroy()\n",
    "        pm.destroy()\n",
    "        time.sleep(0.5)"
   ]
  },
  {
   "cell_type": "code",
   "execution_count": 13,
   "metadata": {},
   "outputs": [
    {
     "name": "stdout",
     "output_type": "stream",
     "text": [
      "{'weather': {'cloudiness': 10.0, 'rain': 0.0, 'puddles': 0.0, 'wind': 5.0, 'fog': 0.0, 'wetness': 0.0, 'sun': {'azimuth': 0.0, 'altitude': 45.0}}, 'model': {'edges': [['R', 'T'], ['R', 'S']], 'states': {'R': ['NO_RAIN', 'LIGHT_RAIN', 'HEAVY_RAIN'], 'T': ['LOW', 'HEAVY'], 'S': ['LOW', 'HIGH']}, 'cpd': {'R': {'name': 'Rain', 'cardinality': 3, 'probabilities': [[0.2], [0.5], [0.3]], 'evidence': None, 'evidence_card': None}, 'T': {'name': 'Traffic', 'cardinality': 2, 'probabilities': [[0.1, 0.4, 0.9], [0.9, 0.6, 0.1]], 'evidence': ['R'], 'evidence_card': None}, 'S': {'name': 'Speed', 'cardinality': 2, 'probabilities': [[0.1, 0.6, 0.8], [0.9, 0.4, 0.2]], 'evidence': ['R'], 'evidence_card': None}}}, 'host': '127.0.0.1', 'port': 2000, 'asynch': False, 'dynamic_weather': False}\n"
     ]
    },
    {
     "name": "stderr",
     "output_type": "stream",
     "text": [
      "Finding Elimination Order: : : 0it [00:00, ?it/s]\n",
      "0it [00:00, ?it/s]\n",
      "ERROR: Spawn failed because of collision at spawn position\n"
     ]
    },
    {
     "name": "stdout",
     "output_type": "stream",
     "text": [
      "\n",
      "Added 30 vehicles\n",
      "Spawned 9 walkers.\n",
      "\n",
      "Destroying 30 vehicles\n",
      "Destroying 9 walkers\n",
      "\n",
      "done.\n"
     ]
    }
   ],
   "source": [
    "try:\n",
    "    cs = ConfigStore.instance()\n",
    "    cs.store(group=\"weather\", name=\"base_weather_model\", node=WeatherSchema)\n",
    "    cs.store(group=\"weather/sun\", name=\"base_sun_model\", node=SunSchema)\n",
    "    cs.store(group=\"model\", name=\"base_pgm_model\", node=PGMModel)\n",
    "    with hydra.initialize(version_base=None, config_path=\"../conf\"):\n",
    "        cfg = hydra.compose(\n",
    "            config_name=\"config\", \n",
    "            overrides=[\n",
    "                \"weather=clear\",\n",
    "                \"weather/sun=day\"\n",
    "                \n",
    "                ])\n",
    "        print(cfg)\n",
    "        main(cfg)\n",
    "except KeyboardInterrupt:\n",
    "    pass\n",
    "finally:\n",
    "    print('\\ndone.')"
   ]
  },
  {
   "cell_type": "code",
   "execution_count": null,
   "metadata": {},
   "outputs": [],
   "source": []
  },
  {
   "cell_type": "code",
   "execution_count": null,
   "metadata": {},
   "outputs": [],
   "source": []
  }
 ],
 "metadata": {
  "kernelspec": {
   "display_name": "Python 3.7.13 ('carla-pgm')",
   "language": "python",
   "name": "python3"
  },
  "language_info": {
   "codemirror_mode": {
    "name": "ipython",
    "version": 3
   },
   "file_extension": ".py",
   "mimetype": "text/x-python",
   "name": "python",
   "nbconvert_exporter": "python",
   "pygments_lexer": "ipython3",
   "version": "3.7.13"
  },
  "orig_nbformat": 4,
  "vscode": {
   "interpreter": {
    "hash": "afed6f277d8b8bfb207bbcb736d6c34c9d4cc2bea9c8625845aeb2af30e9d75e"
   }
  }
 },
 "nbformat": 4,
 "nbformat_minor": 2
}
