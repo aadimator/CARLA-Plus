{
 "cells": [
  {
   "cell_type": "code",
   "execution_count": 1,
   "metadata": {},
   "outputs": [
    {
     "name": "stderr",
     "output_type": "stream",
     "text": [
      "c:\\Users\\aadim\\.conda\\envs\\carla-pgm\\lib\\site-packages\\tqdm\\auto.py:22: TqdmWarning: IProgress not found. Please update jupyter and ipywidgets. See https://ipywidgets.readthedocs.io/en/stable/user_install.html\n",
      "  from .autonotebook import tqdm as notebook_tqdm\n"
     ]
    }
   ],
   "source": [
    "import os\n",
    "import sys\n",
    "import glob\n",
    "\n",
    "try:\n",
    "    sys.path.append(glob.glob('../carla/PythonAPI/carla/dist/carla-*%d.%d-%s.egg' % (\n",
    "        sys.version_info.major,\n",
    "        sys.version_info.minor,\n",
    "        'win-amd64' if os.name == 'nt' else 'linux-x86_64'))[0])\n",
    "except IndexError:\n",
    "    pass\n",
    "\n",
    "\n",
    "import carla\n",
    "\n",
    "import time\n",
    "import math\n",
    "import hydra\n",
    "import logging\n",
    "import argparse\n",
    "\n",
    "\n",
    "from numpy import random\n",
    "from omegaconf import DictConfig, OmegaConf, ValidationError\n",
    "\n",
    "module_path = os.path.abspath(os.path.join('..'))\n",
    "if module_path not in sys.path:\n",
    "    sys.path.append(module_path)\n",
    "\n",
    "from core.pgm import PGM\n",
    "from utils.weather import Weather\n",
    "from core.vehicle_manager import VehicleManager\n",
    "from core.pedestrian_manager import PedestrianManager\n",
    "from utils.common import get_actor_blueprints, hour_to_altitude\n",
    "\n",
    "from hydra.core.config_store import ConfigStore\n",
    "from schemas.pgm_schema import PGMModel\n",
    "from schemas.weather_schema import WeatherSchema\n",
    "from schemas.config_schema import ConfigSchema"
   ]
  },
  {
   "cell_type": "code",
   "execution_count": 2,
   "metadata": {},
   "outputs": [
    {
     "name": "stdout",
     "output_type": "stream",
     "text": [
      "+-----------------+-----+---------------------+\n",
      "| Fog             | ... | Fog(NO_FOG)         |\n",
      "+-----------------+-----+---------------------+\n",
      "| Pedestrians     | ... | Pedestrians(MEDIUM) |\n",
      "+-----------------+-----+---------------------+\n",
      "| Time            | ... | Time(NIGHT)         |\n",
      "+-----------------+-----+---------------------+\n",
      "| Traffic(HEAVY)  | ... | 0.3333333333333333  |\n",
      "+-----------------+-----+---------------------+\n",
      "| Traffic(LOW)    | ... | 0.3333333333333333  |\n",
      "+-----------------+-----+---------------------+\n",
      "| Traffic(MEDIUM) | ... | 0.3333333333333333  |\n",
      "+-----------------+-----+---------------------+\n"
     ]
    }
   ],
   "source": [
    "cs = ConfigStore.instance()\n",
    "cs.store(group=\"weather\", name=\"base_weather_model\", node=WeatherSchema)\n",
    "cs.store(group=\"model\", name=\"base_pgm_model\", node=PGMModel)\n",
    "cs.store(name=\"base_config_model\", node=ConfigSchema)\n",
    "\n",
    "with hydra.initialize(version_base=None, config_path=\"../conf\"):\n",
    "    cfg = hydra.compose(\n",
    "        config_name=\"config\", \n",
    "        overrides=[\n",
    "            \"variables=trained\",\n",
    "            \"weather=rain\",\n",
    "            \"weather.hour=9\"\n",
    "            ]\n",
    "        )\n",
    "\n",
    "pgm = PGM(cfg=cfg, file_path=\"eCARLA_PGM.xml\")\n",
    "pgm.print_cpd('Traffic')\n",
    "\n",
    "# pgm = PGM(file_path=\"eCARLA_PGM.xml\")\n",
    "# pgm.model.to_daft().render()"
   ]
  },
  {
   "cell_type": "code",
   "execution_count": 3,
   "metadata": {},
   "outputs": [],
   "source": [
    "pgm_states = pgm.get_states()\n",
    "pgm_variables = pgm.get_variables()"
   ]
  },
  {
   "cell_type": "code",
   "execution_count": 4,
   "metadata": {},
   "outputs": [],
   "source": [
    "# for s in pgm_states.Time:\n",
    "#     print(s.name)"
   ]
  },
  {
   "cell_type": "code",
   "execution_count": 5,
   "metadata": {},
   "outputs": [
    {
     "name": "stderr",
     "output_type": "stream",
     "text": [
      "Finding Elimination Order: : 100%|██████████| 4/4 [00:00<00:00, 1999.91it/s]\n",
      "Eliminating: Time: 100%|██████████| 4/4 [00:00<00:00, 444.36it/s]\n"
     ]
    },
    {
     "data": {
      "text/plain": [
       "'HEAVY'"
      ]
     },
     "execution_count": 5,
     "metadata": {},
     "output_type": "execute_result"
    }
   ],
   "source": [
    "pgm.predict_state([pgm_variables.Traffic], evidence={\n",
    "    pgm_variables.Fog: pgm_states.Fog.HEAVY.name\n",
    "})[pgm_variables.Traffic]"
   ]
  },
  {
   "cell_type": "code",
   "execution_count": null,
   "metadata": {},
   "outputs": [],
   "source": []
  },
  {
   "cell_type": "code",
   "execution_count": 6,
   "metadata": {},
   "outputs": [],
   "source": [
    "def time_of_day(hour):\n",
    "    if hour >= 2 and hour <= 6:\n",
    "        return 'EARLY_MORNING'\n",
    "    elif hour > 6 and hour <= 9:\n",
    "        return 'MORNING'\n",
    "    elif hour > 9 and hour <= 12:\n",
    "        return 'LATE_MORNING'\n",
    "    elif hour > 12 and hour <= 17:\n",
    "        return 'AFTERNOON'\n",
    "    elif hour > 17 and hour <= 19:\n",
    "        return 'EARLY_EVENING'\n",
    "    elif hour > 19 and hour <= 21:\n",
    "        return 'EVENING'\n",
    "    elif hour > 21 and hour <= 23:\n",
    "        return 'LATE_EVENING'\n",
    "    else:\n",
    "        return 'NIGHT'"
   ]
  },
  {
   "cell_type": "code",
   "execution_count": 7,
   "metadata": {},
   "outputs": [
    {
     "name": "stdout",
     "output_type": "stream",
     "text": [
      "Hour 0 : -90: NIGHT\n",
      "Hour 1 : -75: NIGHT\n",
      "Hour 2 : -60: EARLY_MORNING\n",
      "Hour 3 : -45: EARLY_MORNING\n",
      "Hour 4 : -30: EARLY_MORNING\n",
      "Hour 5 : -15: EARLY_MORNING\n",
      "Hour 6 : 0: EARLY_MORNING\n",
      "Hour 7 : 15: MORNING\n",
      "Hour 8 : 30: MORNING\n",
      "Hour 9 : 45: MORNING\n",
      "Hour 10 : 60: LATE_MORNING\n",
      "Hour 11 : 75: LATE_MORNING\n",
      "Hour 12 : 90: LATE_MORNING\n",
      "Hour 13 : 75: AFTERNOON\n",
      "Hour 14 : 60: AFTERNOON\n",
      "Hour 15 : 45: AFTERNOON\n",
      "Hour 16 : 30: AFTERNOON\n",
      "Hour 17 : 15: AFTERNOON\n",
      "Hour 18 : 0: EARLY_EVENING\n",
      "Hour 19 : -15: EARLY_EVENING\n",
      "Hour 20 : -30: EVENING\n",
      "Hour 21 : -45: EVENING\n",
      "Hour 22 : -60: LATE_EVENING\n",
      "Hour 23 : -75: LATE_EVENING\n"
     ]
    }
   ],
   "source": [
    "for i in range(24):\n",
    "    print(f\"Hour {i} : {hour_to_altitude(i)}: {time_of_day(i)}\")"
   ]
  },
  {
   "cell_type": "code",
   "execution_count": 8,
   "metadata": {},
   "outputs": [],
   "source": [
    "# pgm.print_cpd('Speed')"
   ]
  },
  {
   "cell_type": "code",
   "execution_count": 9,
   "metadata": {},
   "outputs": [],
   "source": [
    "def get_state_from_config(value, states):\n",
    "     for s in states:\n",
    "        if (value <= s.value):\n",
    "            return s.name"
   ]
  },
  {
   "cell_type": "code",
   "execution_count": 23,
   "metadata": {},
   "outputs": [],
   "source": [
    "def main(cfg: DictConfig):\n",
    "    logging.basicConfig(format='%(levelname)s: %(message)s', level=logging.INFO)\n",
    "    \n",
    "    client = carla.Client(cfg.host, cfg.port)\n",
    "    client.set_timeout(10.0)\n",
    "\n",
    "    pgm = PGM(cfg, file_path=\"eCARLA_PGM.xml\")\n",
    "    pgm_variables = pgm.get_variables()\n",
    "    pgm_states = pgm.get_states()\n",
    "\n",
    "    # get weather and time state from configuration files\n",
    "    rain_state = get_state_from_config(cfg.weather.rain, pgm_states.Rain)\n",
    "    print(f\"Rain state: {rain_state}\")\n",
    "\n",
    "    fog_state = get_state_from_config(cfg.weather.fog, pgm_states.Fog)\n",
    "    print(f\"Fog state: {fog_state}\")\n",
    "\n",
    "    clouds_state = get_state_from_config(cfg.weather.cloudiness, pgm_states.Clouds)\n",
    "    print(f\"Cloud state: {clouds_state}\")\n",
    "\n",
    "    time_state = time_of_day(cfg.weather.hour)\n",
    "    print(f\"Time of day: {time_state}\")\n",
    "\n",
    "    pedestrians_state = pgm.predict_state(\n",
    "        [pgm_variables.Pedestrians], \n",
    "        evidence={\n",
    "            pgm_variables.Rain: rain_state,\n",
    "            pgm_variables.Time: time_state\n",
    "        }\n",
    "    )[pgm_variables.Pedestrians]\n",
    "    print(f\"No. of Pedestrians: {pedestrians_state}\")\n",
    "\n",
    "    traffic_state = pgm.predict_state(\n",
    "        [pgm_variables.Traffic], \n",
    "        evidence={\n",
    "            pgm_variables.Fog: fog_state,\n",
    "            pgm_variables.Pedestrians: pedestrians_state,\n",
    "            pgm_variables.Time: time_state\n",
    "        }\n",
    "    )[pgm_variables.Traffic]\n",
    "    print(f\"No. of Vehicles: {traffic_state}\")\n",
    "\n",
    "    speed_state = pgm.predict_state(\n",
    "        [pgm_variables.Speed], \n",
    "        evidence={\n",
    "            pgm_variables.Fog: fog_state,\n",
    "            pgm_variables.Pedestrians: pedestrians_state,\n",
    "            pgm_variables.Time: time_state,\n",
    "            pgm_variables.Traffic: traffic_state\n",
    "        }\n",
    "    )[pgm_variables.Speed]\n",
    "    print(f\"Speed of Vehicles: {speed_state}\")\n",
    "\n",
    "    rng = random.default_rng()\n",
    "\n",
    "    num_of_vehicles = pgm_states.Traffic[traffic_state].value\n",
    "    num_of_vehicles = rng.poisson(num_of_vehicles)\n",
    "    print(f\"Spawning {num_of_vehicles} vehicles.\")\n",
    "\n",
    "    speed = pgm_states.Speed[speed_state].value\n",
    "    speed = rng.poisson(speed)\n",
    "    print(f\"Maximum speed is {100 - speed}% of the speed limit.\")\n",
    "\n",
    "    num_of_pedestrians = pgm_states.Pedestrians[pedestrians_state].value\n",
    "    num_of_pedestrians = rng.poisson(num_of_pedestrians)\n",
    "    print(f\"Spawning {num_of_pedestrians} pedestrians.\")\n",
    "\n",
    "    vcfg = hydra.compose(config_name=\"vehicle_manager.yaml\")\n",
    "    tm = VehicleManager(client=client, cfg=vcfg, asynch=cfg.asynch)\n",
    "\n",
    "    speed_history = list()\n",
    "\n",
    "    pcfg = hydra.compose(config_name=\"pedestrian_manager.yaml\")\n",
    "    # print(pcfg)\n",
    "    pm = PedestrianManager(client=client, cfg=pcfg, asynch=cfg.asynch)\n",
    "    try:\n",
    "        world = client.get_world()\n",
    "\n",
    "        all_vehicles = tm.spawn_vehicles(number_of_vehicles=num_of_vehicles)\n",
    "        pm.spawn_walkers(number_of_walkers=num_of_pedestrians, percentagePedestriansRunning=pcfg.running_percentage, percentagePedestriansCrossing=pcfg.crossing_percentage)\n",
    "\n",
    "        # Dynamic Weather\n",
    "        speed_factor = 1.0\n",
    "        update_freq = 0.5 / speed_factor\n",
    "\n",
    "        weather = Weather(world.get_weather())\n",
    "        weather.setWeather(cfg.weather)\n",
    "        world.set_weather(weather.weather)\n",
    "\n",
    "        elapsed_time = 0.0\n",
    "\n",
    "        tm.update_global_speed(speed)\n",
    "\n",
    "        synchronous_master = world.get_settings().synchronous_mode\n",
    "        while True:\n",
    "            if not cfg.asynch and synchronous_master:\n",
    "                world.tick()\n",
    "            else:\n",
    "                timestamp = world.wait_for_tick(seconds=30.0).timestamp\n",
    "                elapsed_time += timestamp.delta_seconds\n",
    "            v = world.get_actor(all_vehicles[0]).get_velocity()\n",
    "            current_speed = 3.6 * math.sqrt(v.x**2 + v.y**2 + v.z**2)\n",
    "            speed_history.append(current_speed)\n",
    "            # print('Speed:   % 15.0f km/h' % (current_speed))\n",
    "    finally:\n",
    "\n",
    "        tm.destroy()\n",
    "        pm.destroy()\n",
    "        time.sleep(0.5)\n",
    "        return speed_history"
   ]
  },
  {
   "cell_type": "code",
   "execution_count": 25,
   "metadata": {},
   "outputs": [
    {
     "name": "stdout",
     "output_type": "stream",
     "text": [
      "{'cloudiness': 10.0, 'rain': 0.0, 'puddles': 0.0, 'wind': 5.0, 'fog': 0.0, 'wetness': 0.0, 'hour': 8}\n",
      "Rain state: NO_RAIN\n",
      "Fog state: NO_FOG\n",
      "Rain state: NO_CLOUDS\n",
      "Time of day: MORNING\n"
     ]
    },
    {
     "name": "stderr",
     "output_type": "stream",
     "text": [
      "Finding Elimination Order: : : 0it [00:00, ?it/s]\n",
      "0it [00:00, ?it/s]\n"
     ]
    },
    {
     "name": "stdout",
     "output_type": "stream",
     "text": [
      "No. of Pedestrians: MEDIUM\n"
     ]
    },
    {
     "name": "stderr",
     "output_type": "stream",
     "text": [
      "Finding Elimination Order: : : 0it [00:00, ?it/s]\n",
      "0it [00:00, ?it/s]\n"
     ]
    },
    {
     "name": "stdout",
     "output_type": "stream",
     "text": [
      "No. of Vehicles: MEDIUM\n"
     ]
    },
    {
     "name": "stderr",
     "output_type": "stream",
     "text": [
      "Finding Elimination Order: : : 0it [00:00, ?it/s]\n",
      "0it [00:00, ?it/s]"
     ]
    },
    {
     "name": "stdout",
     "output_type": "stream",
     "text": [
      "Speed of Vehicles: LOW\n",
      "Spawning 20 vehicles.\n",
      "50\n",
      "40\n",
      "Maximum speed is 60% of the speed limit.\n",
      "Spawning 7 pedestrians.\n"
     ]
    },
    {
     "name": "stderr",
     "output_type": "stream",
     "text": [
      "\n",
      "ERROR: Spawn failed because of collision at spawn position\n",
      "ERROR: Spawn failed because of collision at spawn position\n"
     ]
    },
    {
     "name": "stdout",
     "output_type": "stream",
     "text": [
      "\n",
      "Added 20 vehicles\n",
      "Spawned 5 walkers.\n",
      "\n",
      "Destroying 20 vehicles\n",
      "Destroying 5 walkers\n",
      "\n",
      "Done.\n"
     ]
    }
   ],
   "source": [
    "try:\n",
    "    cs = ConfigStore.instance()\n",
    "    cs.store(group=\"weather\", name=\"base_weather_model\", node=WeatherSchema)\n",
    "    cs.store(group=\"model\", name=\"base_pgm_model\", node=PGMModel)\n",
    "    cs.store(name=\"base_config_model\", node=ConfigSchema)\n",
    "    with hydra.initialize(version_base=None, config_path=\"../conf\"):\n",
    "        cfg = hydra.compose(\n",
    "            config_name=\"config\", \n",
    "            overrides=[\n",
    "                \"weather=clear\",\n",
    "                \"weather.hour=8\",\n",
    "                \"variables=trained\"\n",
    "                ])\n",
    "        print(cfg.weather)\n",
    "        clear_speeds = main(cfg)\n",
    "except KeyboardInterrupt:\n",
    "    pass\n",
    "finally:\n",
    "    print('\\nDone.')"
   ]
  },
  {
   "cell_type": "code",
   "execution_count": null,
   "metadata": {},
   "outputs": [],
   "source": []
  }
 ],
 "metadata": {
  "kernelspec": {
   "display_name": "Python 3.7.13 ('carla-pgm')",
   "language": "python",
   "name": "python3"
  },
  "language_info": {
   "codemirror_mode": {
    "name": "ipython",
    "version": 3
   },
   "file_extension": ".py",
   "mimetype": "text/x-python",
   "name": "python",
   "nbconvert_exporter": "python",
   "pygments_lexer": "ipython3",
   "version": "3.7.13"
  },
  "orig_nbformat": 4,
  "vscode": {
   "interpreter": {
    "hash": "afed6f277d8b8bfb207bbcb736d6c34c9d4cc2bea9c8625845aeb2af30e9d75e"
   }
  }
 },
 "nbformat": 4,
 "nbformat_minor": 2
}
