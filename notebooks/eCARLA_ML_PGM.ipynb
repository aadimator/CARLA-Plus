{
 "cells": [
  {
   "cell_type": "code",
   "execution_count": 21,
   "metadata": {},
   "outputs": [],
   "source": [
    "import os\n",
    "import sys\n",
    "import glob\n",
    "\n",
    "try:\n",
    "    sys.path.append(glob.glob('../carla/PythonAPI/carla/dist/carla-*%d.%d-%s.egg' % (\n",
    "        sys.version_info.major,\n",
    "        sys.version_info.minor,\n",
    "        'win-amd64' if os.name == 'nt' else 'linux-x86_64'))[0])\n",
    "except IndexError:\n",
    "    pass\n",
    "\n",
    "\n",
    "import carla\n",
    "\n",
    "import time\n",
    "import math\n",
    "import hydra\n",
    "import logging\n",
    "import argparse\n",
    "\n",
    "\n",
    "from numpy import random\n",
    "from omegaconf import DictConfig, OmegaConf, ValidationError\n",
    "\n",
    "module_path = os.path.abspath(os.path.join('..'))\n",
    "if module_path not in sys.path:\n",
    "    sys.path.append(module_path)\n",
    "\n",
    "from core.pgm import PGM\n",
    "from utils.weather import Weather\n",
    "from core.vehicle_manager import VehicleManager\n",
    "from core.pedestrian_manager import PedestrianManager\n",
    "from utils.common import get_actor_blueprints, hour_to_altitude\n",
    "\n",
    "from hydra.core.config_store import ConfigStore\n",
    "from schemas.pgm_schema import PGMModel\n",
    "from schemas.weather_schema import WeatherSchema, SunSchema\n",
    "from schemas.config_schema import ConfigSchema"
   ]
  },
  {
   "cell_type": "code",
   "execution_count": 17,
   "metadata": {},
   "outputs": [],
   "source": [
    "from pgmpy.readwrite import XMLBIFReader\n",
    "\n",
    "\n",
    "file_path = \"eCARLA_PGM.xml\"\n",
    "reader = XMLBIFReader(file_path)\n",
    "model = reader.get_model()"
   ]
  },
  {
   "cell_type": "code",
   "execution_count": 19,
   "metadata": {},
   "outputs": [
    {
     "data": {
      "text/plain": [
       "['clouds', 'fog', 'pedestrians', 'rain', 'speed', 'time', 'traffic']"
      ]
     },
     "execution_count": 19,
     "metadata": {},
     "output_type": "execute_result"
    }
   ],
   "source": [
    "reader.get_variables()"
   ]
  },
  {
   "cell_type": "code",
   "execution_count": 20,
   "metadata": {},
   "outputs": [
    {
     "data": {
      "text/plain": [
       "{'clouds': ['heavy', 'light', 'moderate', 'no'],\n",
       " 'fog': ['heavy', 'light', 'moderate', 'no'],\n",
       " 'pedestrians': ['high', 'low', 'medium'],\n",
       " 'rain': ['heavy', 'light', 'moderate', 'no'],\n",
       " 'speed': ['high', 'low', 'medium'],\n",
       " 'time': ['afternoon',\n",
       "  'early_evening',\n",
       "  'early_morning',\n",
       "  'evening',\n",
       "  'late_evening',\n",
       "  'late_morning',\n",
       "  'morning',\n",
       "  'night'],\n",
       " 'traffic': ['heavy', 'low', 'medium']}"
      ]
     },
     "execution_count": 20,
     "metadata": {},
     "output_type": "execute_result"
    }
   ],
   "source": [
    "reader.get_states()"
   ]
  },
  {
   "cell_type": "code",
   "execution_count": 12,
   "metadata": {},
   "outputs": [],
   "source": [
    "def time_class(row):\n",
    "    time = row['hour']\n",
    "    if time >= 2 and time <= 6:\n",
    "        return 'early morning'\n",
    "    elif time > 6 and time <= 9:\n",
    "        return 'morning'\n",
    "    elif time > 9 and time <= 12:\n",
    "        return 'late morning'\n",
    "    elif time > 12 and time <= 17:\n",
    "        return 'afternoon'\n",
    "    elif time > 17 and time <= 19:\n",
    "        return 'early evening'\n",
    "    elif time > 19 and time <= 21:\n",
    "        return 'evening'\n",
    "    elif time > 21 and time <= 23:\n",
    "        return 'late evening'\n",
    "    else:\n",
    "        return 'night'"
   ]
  },
  {
   "cell_type": "code",
   "execution_count": 13,
   "metadata": {},
   "outputs": [],
   "source": [
    "def altitude_to_time(angle):\n",
    "    if angle >= -60 and angle <= 0:\n",
    "        return 'early morning'\n",
    "    elif angle > 0 and angle <= 45:\n",
    "        return 'morning'\n",
    "    elif angle > 45 and angle <= 90:\n",
    "        return 'late morning'\n",
    "    elif angle < 90 and angle >= 15:\n",
    "        return 'afternoon'\n",
    "    elif angle < 15 and angle >= -15:\n",
    "        return 'early evening'\n",
    "    elif angle < -15 and angle >= -45:\n",
    "        return 'evening'\n",
    "    elif angle < -45 and angle >= -75:\n",
    "        return 'late evening'\n",
    "    else:\n",
    "        return 'night'"
   ]
  },
  {
   "cell_type": "code",
   "execution_count": 14,
   "metadata": {},
   "outputs": [
    {
     "name": "stdout",
     "output_type": "stream",
     "text": [
      "Hour 0 : -90: night\n",
      "Hour 1 : -75: late evening\n",
      "Hour 2 : -60: early morning\n",
      "Hour 3 : -45: early morning\n",
      "Hour 4 : -30: early morning\n",
      "Hour 5 : -15: early morning\n",
      "Hour 6 : 0: early morning\n",
      "Hour 7 : 15: morning\n",
      "Hour 8 : 30: morning\n",
      "Hour 9 : 45: morning\n",
      "Hour 10 : 60: late morning\n",
      "Hour 11 : 75: late morning\n",
      "Hour 12 : 90: late morning\n",
      "Hour 13 : 75: late morning\n",
      "Hour 14 : 60: late morning\n",
      "Hour 15 : 45: morning\n",
      "Hour 16 : 30: morning\n",
      "Hour 17 : 15: morning\n",
      "Hour 18 : 0: early morning\n",
      "Hour 19 : -15: early morning\n",
      "Hour 20 : -30: early morning\n",
      "Hour 21 : -45: early morning\n",
      "Hour 22 : -60: early morning\n",
      "Hour 23 : -75: late evening\n"
     ]
    }
   ],
   "source": [
    "for i in range(24):\n",
    "    print(f\"Hour {i} : {hour_to_altitude(i)}: {altitude_to_time(hour_to_altitude(i))}\")"
   ]
  },
  {
   "cell_type": "code",
   "execution_count": null,
   "metadata": {},
   "outputs": [],
   "source": [
    "from pgmpy.readwrite import XMLBIFReader\n",
    "\n",
    "reader = XMLBIFReader(\"asia.xml\")\n",
    "read_model = reader.get_model()\n",
    "read_model.get_cpds()"
   ]
  },
  {
   "cell_type": "code",
   "execution_count": 15,
   "metadata": {},
   "outputs": [],
   "source": [
    "def main(cfg: DictConfig):\n",
    "    logging.basicConfig(format='%(levelname)s: %(message)s', level=logging.INFO)\n",
    "    \n",
    "    client = carla.Client(cfg.host, cfg.port)\n",
    "    client.set_timeout(10.0)\n",
    "\n",
    "    pgm = PGM(cfg)\n",
    "    pgm_variables = pgm.get_variables()\n",
    "    pgm_states = pgm.get_states()\n",
    "\n",
    "    # get rain state based on weather\n",
    "    rain_value = cfg.weather.rain\n",
    "    rain_state = None\n",
    "    for s in pgm_states.Rain:\n",
    "        if (rain_value <= s.value):\n",
    "            rain_state = s.name\n",
    "            break\n",
    "\n",
    "    print(rain_state)\n",
    "\n",
    "    traffic_state = pgm.predict_state(\n",
    "        [pgm_variables.Traffic, pgm_variables.Speed, pgm_variables.Pedestrians], \n",
    "        evidence={\n",
    "            pgm_variables.Rain: rain_state\n",
    "        }\n",
    "    )\n",
    "\n",
    "    rng = random.default_rng()\n",
    "    num_of_vehicles = pgm_states.Traffic[traffic_state[pgm_variables.Traffic]].value\n",
    "    num_of_vehicles = rng.poisson(num_of_vehicles)\n",
    "    print(f\"Spawning {num_of_vehicles} vehicles.\")\n",
    "\n",
    "    speed = pgm_states.Speed[traffic_state[pgm_variables.Speed]].value\n",
    "    print(f\"Maximum speed is {speed}% of the speed limit.\")\n",
    "\n",
    "    num_of_pedestrians = pgm_states.Pedestrians[traffic_state[pgm_variables.Pedestrians]].value\n",
    "    num_of_pedestrians = rng.poisson(num_of_pedestrians)\n",
    "    print(f\"Spawning {num_of_pedestrians} pedestrians.\")\n",
    "\n",
    "    vcfg = hydra.compose(config_name=\"vehicle_manager.yaml\")\n",
    "    # print(OmegaConf.to_yaml(vcfg, resolve=True))\n",
    "    tm = VehicleManager(client=client, cfg=vcfg, asynch=cfg.asynch)\n",
    "\n",
    "    # v = world.player.get_velocity()\n",
    "    # 'Speed:   % 15.0f km/h' % (3.6 * math.sqrt(v.x**2 + v.y**2 + v.z**2)),\n",
    "    speed_history = list()\n",
    "\n",
    "    pcfg = hydra.compose(config_name=\"pedestrian_manager.yaml\")\n",
    "    # print(pcfg)\n",
    "    pm = PedestrianManager(client=client, cfg=pcfg, asynch=cfg.asynch)\n",
    "    try:\n",
    "        world = client.get_world()\n",
    "\n",
    "        all_vehicles = tm.spawn_vehicles(number_of_vehicles=num_of_vehicles)\n",
    "        pm.spawn_walkers(number_of_walkers=num_of_pedestrians, percentagePedestriansRunning=pcfg.running_percentage, percentagePedestriansCrossing=pcfg.crossing_percentage)\n",
    "\n",
    "        # Dynamic Weather\n",
    "        speed_factor = 1.0\n",
    "        update_freq = 0.5 / speed_factor\n",
    "\n",
    "        weather = Weather(world.get_weather())\n",
    "        weather.setWeather(cfg.weather)\n",
    "        world.set_weather(weather.weather)\n",
    "\n",
    "        elapsed_time = 0.0\n",
    "\n",
    "        tm.update_global_speed(speed)\n",
    "\n",
    "        synchronous_master = world.get_settings().synchronous_mode\n",
    "        while True:\n",
    "            if not cfg.asynch and synchronous_master:\n",
    "                world.tick()\n",
    "            else:\n",
    "                timestamp = world.wait_for_tick(seconds=30.0).timestamp\n",
    "                elapsed_time += timestamp.delta_seconds\n",
    "            v = world.get_actor(all_vehicles[0]).get_velocity()\n",
    "            current_speed = 3.6 * math.sqrt(v.x**2 + v.y**2 + v.z**2)\n",
    "            speed_history.append(current_speed)\n",
    "            # print('Speed:   % 15.0f km/h' % (current_speed))\n",
    "    finally:\n",
    "\n",
    "        tm.destroy()\n",
    "        pm.destroy()\n",
    "        time.sleep(0.5)\n",
    "        return speed_history"
   ]
  },
  {
   "cell_type": "code",
   "execution_count": null,
   "metadata": {},
   "outputs": [],
   "source": [
    "try:\n",
    "    cs = ConfigStore.instance()\n",
    "    cs.store(group=\"weather\", name=\"base_weather_model\", node=WeatherSchema)\n",
    "    cs.store(group=\"weather/sun\", name=\"base_sun_model\", node=SunSchema)\n",
    "    cs.store(group=\"model\", name=\"base_pgm_model\", node=PGMModel)\n",
    "    cs.store(name=\"base_config_model\", node=ConfigSchema)\n",
    "    with hydra.initialize(version_base=None, config_path=\"../conf\"):\n",
    "        cfg = hydra.compose(\n",
    "            config_name=\"config\", \n",
    "            overrides=[\n",
    "                \"weather=clear\",\n",
    "                \"weather/sun=night\"\n",
    "                \n",
    "                ])\n",
    "        print(cfg.weather)\n",
    "        clear_speeds = main(cfg)\n",
    "except KeyboardInterrupt:\n",
    "    pass\n",
    "finally:\n",
    "    print('\\ndone.')"
   ]
  }
 ],
 "metadata": {
  "kernelspec": {
   "display_name": "Python 3.7.13 ('carla-pgm')",
   "language": "python",
   "name": "python3"
  },
  "language_info": {
   "codemirror_mode": {
    "name": "ipython",
    "version": 3
   },
   "file_extension": ".py",
   "mimetype": "text/x-python",
   "name": "python",
   "nbconvert_exporter": "python",
   "pygments_lexer": "ipython3",
   "version": "3.7.13"
  },
  "orig_nbformat": 4,
  "vscode": {
   "interpreter": {
    "hash": "afed6f277d8b8bfb207bbcb736d6c34c9d4cc2bea9c8625845aeb2af30e9d75e"
   }
  }
 },
 "nbformat": 4,
 "nbformat_minor": 2
}
