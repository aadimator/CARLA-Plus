{
 "cells": [
  {
   "cell_type": "code",
   "execution_count": 3,
   "metadata": {},
   "outputs": [
    {
     "name": "stderr",
     "output_type": "stream",
     "text": [
      "c:\\Users\\aadim\\.conda\\envs\\carla-pgm\\lib\\site-packages\\tqdm\\auto.py:22: TqdmWarning: IProgress not found. Please update jupyter and ipywidgets. See https://ipywidgets.readthedocs.io/en/stable/user_install.html\n",
      "  from .autonotebook import tqdm as notebook_tqdm\n"
     ]
    }
   ],
   "source": [
    "import os\n",
    "import sys\n",
    "import glob\n",
    "\n",
    "try:\n",
    "    sys.path.append(glob.glob('carla/PythonAPI/carla/dist/carla-*%d.%d-%s.egg' % (\n",
    "        sys.version_info.major,\n",
    "        sys.version_info.minor,\n",
    "        'win-amd64' if os.name == 'nt' else 'linux-x86_64'))[0])\n",
    "except IndexError:\n",
    "    pass\n",
    "\n",
    "import carla\n",
    "import hydra\n",
    "\n",
    "from omegaconf import DictConfig, OmegaConf\n",
    "from hydra.core.config_store import ConfigStore\n",
    "\n",
    "from core.pgm import PGM\n",
    "from utils.weather import Weather\n",
    "from schemas.pgm_schema import PGMModel\n",
    "from schemas.weather_schema import WeatherSchema, SunSchema"
   ]
  },
  {
   "cell_type": "code",
   "execution_count": 8,
   "metadata": {},
   "outputs": [
    {
     "name": "stdout",
     "output_type": "stream",
     "text": [
      "+----------+------------+---------------+---------------+\n",
      "| R        | R(NO_RAIN) | R(LIGHT_RAIN) | R(HEAVY_RAIN) |\n",
      "+----------+------------+---------------+---------------+\n",
      "| T(LOW)   | 0.1        | 0.4           | 0.9           |\n",
      "+----------+------------+---------------+---------------+\n",
      "| T(HEAVY) | 0.9        | 0.6           | 0.1           |\n",
      "+----------+------------+---------------+---------------+\n"
     ]
    }
   ],
   "source": [
    "cs = ConfigStore.instance()\n",
    "cs.store(group=\"weather\", name=\"base_weather_model\", node=WeatherSchema)\n",
    "cs.store(group=\"weather/sun\", name=\"base_sun_model\", node=SunSchema)\n",
    "cs.store(group=\"model\", name=\"base_pgm_model\", node=PGMModel)\n",
    "with hydra.initialize(version_base=None, config_path=\"conf\"):\n",
    "    cfg = hydra.compose(\n",
    "        config_name=\"config\", \n",
    "        overrides=[\n",
    "            \"weather=clear\",\n",
    "            \"weather/sun=day\"\n",
    "            \n",
    "            ])\n",
    "    # print(OmegaConf.to_yaml(cfg.model))\n",
    "\n",
    "pgm = PGM(cfg.model)\n",
    "pgm.print_cpd('T')"
   ]
  },
  {
   "cell_type": "code",
   "execution_count": 9,
   "metadata": {},
   "outputs": [
    {
     "data": {
      "text/plain": [
       "'NO_RAIN'"
      ]
     },
     "execution_count": 9,
     "metadata": {},
     "output_type": "execute_result"
    }
   ],
   "source": [
    "states = pgm.get_states()\n",
    "states.Rain.NO_RAIN.name"
   ]
  },
  {
   "cell_type": "code",
   "execution_count": 10,
   "metadata": {},
   "outputs": [
    {
     "data": {
      "text/plain": [
       "'R'"
      ]
     },
     "execution_count": 10,
     "metadata": {},
     "output_type": "execute_result"
    }
   ],
   "source": [
    "variables = pgm.get_variables()\n",
    "variables.Rain"
   ]
  },
  {
   "cell_type": "code",
   "execution_count": 11,
   "metadata": {},
   "outputs": [
    {
     "name": "stderr",
     "output_type": "stream",
     "text": [
      "Finding Elimination Order: : : 0it [00:00, ?it/s]\n",
      "0it [00:00, ?it/s]"
     ]
    },
    {
     "name": "stdout",
     "output_type": "stream",
     "text": [
      "+----------+---------+------------+\n",
      "| T        | S       |   phi(T,S) |\n",
      "+==========+=========+============+\n",
      "| T(LOW)   | S(LOW)  |     0.2400 |\n",
      "+----------+---------+------------+\n",
      "| T(LOW)   | S(HIGH) |     0.1600 |\n",
      "+----------+---------+------------+\n",
      "| T(HEAVY) | S(LOW)  |     0.3600 |\n",
      "+----------+---------+------------+\n",
      "| T(HEAVY) | S(HIGH) |     0.2400 |\n",
      "+----------+---------+------------+\n"
     ]
    },
    {
     "name": "stderr",
     "output_type": "stream",
     "text": [
      "\n"
     ]
    }
   ],
   "source": [
    "res = pgm.predict_dist(\n",
    "    [variables.Traffic, variables.Speed], \n",
    "    evidence={variables.Rain: states.Rain.LIGHT_RAIN.name})\n",
    "print(res)"
   ]
  },
  {
   "cell_type": "code",
   "execution_count": 12,
   "metadata": {},
   "outputs": [
    {
     "name": "stderr",
     "output_type": "stream",
     "text": [
      "Finding Elimination Order: : : 0it [00:00, ?it/s]\n",
      "0it [00:00, ?it/s]\n"
     ]
    },
    {
     "data": {
      "text/plain": [
       "{'T': 'HEAVY', 'S': 'LOW'}"
      ]
     },
     "execution_count": 12,
     "metadata": {},
     "output_type": "execute_result"
    }
   ],
   "source": [
    "res = pgm.predict_state(['T', 'S'], evidence={'R': states.Rain.LIGHT_RAIN.name})\n",
    "res"
   ]
  }
 ],
 "metadata": {
  "kernelspec": {
   "display_name": "Python 3.7.13 ('carla-pgm')",
   "language": "python",
   "name": "python3"
  },
  "language_info": {
   "codemirror_mode": {
    "name": "ipython",
    "version": 3
   },
   "file_extension": ".py",
   "mimetype": "text/x-python",
   "name": "python",
   "nbconvert_exporter": "python",
   "pygments_lexer": "ipython3",
   "version": "3.7.13"
  },
  "orig_nbformat": 4,
  "vscode": {
   "interpreter": {
    "hash": "afed6f277d8b8bfb207bbcb736d6c34c9d4cc2bea9c8625845aeb2af30e9d75e"
   }
  }
 },
 "nbformat": 4,
 "nbformat_minor": 2
}
