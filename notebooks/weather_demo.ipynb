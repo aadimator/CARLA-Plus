{
 "cells": [
  {
   "cell_type": "code",
   "execution_count": 8,
   "metadata": {},
   "outputs": [],
   "source": [
    "import os\n",
    "import sys\n",
    "import glob\n",
    "\n",
    "try:\n",
    "    sys.path.append(glob.glob('carla/PythonAPI/carla/dist/carla-*%d.%d-%s.egg' % (\n",
    "        sys.version_info.major,\n",
    "        sys.version_info.minor,\n",
    "        'win-amd64' if os.name == 'nt' else 'linux-x86_64'))[0])\n",
    "except IndexError:\n",
    "    pass\n",
    "\n",
    "import carla\n",
    "import hydra\n",
    "\n",
    "from omegaconf import DictConfig, OmegaConf\n",
    "from hydra.core.config_store import ConfigStore\n",
    "\n",
    "from utils.weather import Weather\n",
    "from schemas.pgm_schema import PGMModel\n",
    "from schemas.weather_schema import WeatherSchema, SunSchema"
   ]
  },
  {
   "cell_type": "code",
   "execution_count": 11,
   "metadata": {},
   "outputs": [
    {
     "name": "stdout",
     "output_type": "stream",
     "text": [
      "cloudiness: 10.0\n",
      "rain: 0.0\n",
      "puddles: 0.0\n",
      "wind: 5.0\n",
      "fog: 0.0\n",
      "wetness: 0.0\n",
      "sun:\n",
      "  azimuth: 0.0\n",
      "  altitude: 45.0\n",
      "\n"
     ]
    }
   ],
   "source": [
    "cs = ConfigStore.instance()\n",
    "cs.store(group=\"weather\", name=\"base_weather_model\", node=WeatherSchema)\n",
    "cs.store(group=\"weather/sun\", name=\"base_sun_model\", node=SunSchema)\n",
    "cs.store(group=\"model\", name=\"base_pgm_model\", node=PGMModel)\n",
    "with hydra.initialize(version_base=None, config_path=\"conf\"):\n",
    "    cfg = hydra.compose(\n",
    "        config_name=\"config\", \n",
    "        overrides=[\n",
    "            \"weather=clear\",\n",
    "            \"weather/sun=day\"\n",
    "            \n",
    "            ])\n",
    "    print(OmegaConf.to_yaml(cfg.weather))"
   ]
  },
  {
   "cell_type": "code",
   "execution_count": 10,
   "metadata": {},
   "outputs": [
    {
     "name": "stdout",
     "output_type": "stream",
     "text": [
      "Sun(alt: 45.00, azm: 0.00) Storm(clouds=0%, rain=0%, wind=0%)\n"
     ]
    }
   ],
   "source": [
    "client = carla.Client(cfg.host, cfg.port)\n",
    "client.set_timeout(10.0)\n",
    "world = client.get_world()\n",
    "\n",
    "weather = Weather(world.get_weather())\n",
    "weather.setWeather(cfg.weather)\n",
    "print(weather)\n",
    "world.set_weather(weather.weather)"
   ]
  },
  {
   "cell_type": "code",
   "execution_count": null,
   "metadata": {},
   "outputs": [],
   "source": []
  }
 ],
 "metadata": {
  "kernelspec": {
   "display_name": "Python 3.7.13 ('carla-pgm')",
   "language": "python",
   "name": "python3"
  },
  "language_info": {
   "codemirror_mode": {
    "name": "ipython",
    "version": 3
   },
   "file_extension": ".py",
   "mimetype": "text/x-python",
   "name": "python",
   "nbconvert_exporter": "python",
   "pygments_lexer": "ipython3",
   "version": "3.7.13"
  },
  "orig_nbformat": 4,
  "vscode": {
   "interpreter": {
    "hash": "afed6f277d8b8bfb207bbcb736d6c34c9d4cc2bea9c8625845aeb2af30e9d75e"
   }
  }
 },
 "nbformat": 4,
 "nbformat_minor": 2
}
